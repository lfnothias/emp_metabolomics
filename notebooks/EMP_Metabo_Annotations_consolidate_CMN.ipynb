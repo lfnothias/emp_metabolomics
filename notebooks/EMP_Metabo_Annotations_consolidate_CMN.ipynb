{
 "cells": [
  {
   "cell_type": "markdown",
   "metadata": {},
   "source": [
    "# EMP Metabolomics - Convert/consolidate structure annotations CMN\n",
    "\n"
   ]
  },
  {
   "cell_type": "code",
   "execution_count": 1,
   "metadata": {},
   "outputs": [],
   "source": [
    "from convert_structures import *"
   ]
  },
  {
   "cell_type": "markdown",
   "metadata": {},
   "source": [
    "## Load GNPS CMN annotations"
   ]
  },
  {
   "cell_type": "code",
   "execution_count": 2,
   "metadata": {},
   "outputs": [],
   "source": [
    "path = \"annotations_2_1/CMN_metabo_feature_metadata_filtered.tsv\""
   ]
  },
  {
   "cell_type": "code",
   "execution_count": 3,
   "metadata": {},
   "outputs": [
    {
     "data": {
      "text/html": [
       "<div>\n",
       "<style scoped>\n",
       "    .dataframe tbody tr th:only-of-type {\n",
       "        vertical-align: middle;\n",
       "    }\n",
       "\n",
       "    .dataframe tbody tr th {\n",
       "        vertical-align: top;\n",
       "    }\n",
       "\n",
       "    .dataframe thead th {\n",
       "        text-align: right;\n",
       "    }\n",
       "</style>\n",
       "<table border=\"1\" class=\"dataframe\">\n",
       "  <thead>\n",
       "    <tr style=\"text-align: right;\">\n",
       "      <th></th>\n",
       "      <th>cluster index</th>\n",
       "      <th>GNPS_DefaultGroups</th>\n",
       "      <th>GNPS_EvenOdd</th>\n",
       "      <th>GNPS_G1</th>\n",
       "      <th>GNPS_G2</th>\n",
       "      <th>GNPS_G3</th>\n",
       "      <th>GNPS_G4</th>\n",
       "      <th>GNPS_G5</th>\n",
       "      <th>GNPS_G6</th>\n",
       "      <th>GNPS_GNPSLinkout_Cluster</th>\n",
       "      <th>...</th>\n",
       "      <th>CSI_id</th>\n",
       "      <th>CAN_name</th>\n",
       "      <th>CAN_molecularFormula</th>\n",
       "      <th>CAN_adduct</th>\n",
       "      <th>CAN_most specific class</th>\n",
       "      <th>CAN_level 5</th>\n",
       "      <th>CAN_subclass</th>\n",
       "      <th>CAN_class</th>\n",
       "      <th>CAN_superclass</th>\n",
       "      <th>CAN_all classifications</th>\n",
       "    </tr>\n",
       "  </thead>\n",
       "  <tbody>\n",
       "    <tr>\n",
       "      <th>0</th>\n",
       "      <td>1</td>\n",
       "      <td>G1,G2,G3,G4,G5</td>\n",
       "      <td>0</td>\n",
       "      <td>1</td>\n",
       "      <td>1</td>\n",
       "      <td>3</td>\n",
       "      <td>1</td>\n",
       "      <td>2</td>\n",
       "      <td>0</td>\n",
       "      <td>https://gnps.ucsd.edu//ProteoSAFe/result.jsp?t...</td>\n",
       "      <td>...</td>\n",
       "      <td>NaN</td>\n",
       "      <td>NaN</td>\n",
       "      <td>NaN</td>\n",
       "      <td>NaN</td>\n",
       "      <td>NaN</td>\n",
       "      <td>NaN</td>\n",
       "      <td>NaN</td>\n",
       "      <td>NaN</td>\n",
       "      <td>NaN</td>\n",
       "      <td>NaN</td>\n",
       "    </tr>\n",
       "    <tr>\n",
       "      <th>1</th>\n",
       "      <td>3</td>\n",
       "      <td>G3,G4,G5</td>\n",
       "      <td>0</td>\n",
       "      <td>0</td>\n",
       "      <td>0</td>\n",
       "      <td>5</td>\n",
       "      <td>2</td>\n",
       "      <td>2</td>\n",
       "      <td>0</td>\n",
       "      <td>https://gnps.ucsd.edu//ProteoSAFe/result.jsp?t...</td>\n",
       "      <td>...</td>\n",
       "      <td>NaN</td>\n",
       "      <td>NaN</td>\n",
       "      <td>NaN</td>\n",
       "      <td>NaN</td>\n",
       "      <td>NaN</td>\n",
       "      <td>NaN</td>\n",
       "      <td>NaN</td>\n",
       "      <td>NaN</td>\n",
       "      <td>NaN</td>\n",
       "      <td>NaN</td>\n",
       "    </tr>\n",
       "  </tbody>\n",
       "</table>\n",
       "<p>2 rows × 173 columns</p>\n",
       "</div>"
      ],
      "text/plain": [
       "   cluster index GNPS_DefaultGroups  GNPS_EvenOdd  GNPS_G1  GNPS_G2  GNPS_G3  \\\n",
       "0              1     G1,G2,G3,G4,G5             0        1        1        3   \n",
       "1              3           G3,G4,G5             0        0        0        5   \n",
       "\n",
       "   GNPS_G4  GNPS_G5  GNPS_G6  \\\n",
       "0        1        2        0   \n",
       "1        2        2        0   \n",
       "\n",
       "                            GNPS_GNPSLinkout_Cluster           ...            \\\n",
       "0  https://gnps.ucsd.edu//ProteoSAFe/result.jsp?t...           ...             \n",
       "1  https://gnps.ucsd.edu//ProteoSAFe/result.jsp?t...           ...             \n",
       "\n",
       "  CSI_id CAN_name  CAN_molecularFormula  CAN_adduct  CAN_most specific class  \\\n",
       "0    NaN      NaN                   NaN         NaN                      NaN   \n",
       "1    NaN      NaN                   NaN         NaN                      NaN   \n",
       "\n",
       "   CAN_level 5  CAN_subclass  CAN_class CAN_superclass CAN_all classifications  \n",
       "0          NaN           NaN        NaN            NaN                     NaN  \n",
       "1          NaN           NaN        NaN            NaN                     NaN  \n",
       "\n",
       "[2 rows x 173 columns]"
      ]
     },
     "execution_count": 3,
     "metadata": {},
     "output_type": "execute_result"
    }
   ],
   "source": [
    "# Spectral-DB file from FBMN, possibly compatible with V2\n",
    "df = pd.read_csv(path, sep='\\t', header=0,low_memory=False)\n",
    "df.head(2)"
   ]
  },
  {
   "cell_type": "markdown",
   "metadata": {},
   "source": [
    "## Inspect the metadata"
   ]
  },
  {
   "cell_type": "code",
   "execution_count": 25,
   "metadata": {},
   "outputs": [
    {
     "name": "stdout",
     "output_type": "stream",
     "text": [
      "['CSI_#adducts', 'CSI_#predictedFPs', 'CSI_ConfidenceScore', 'CSI_CSI:FingerIDScore', 'CSI_ZodiacScore', 'CSI_SiriusScore', 'CSI_molecularFormula', 'CSI_adduct', 'CSI_InChIkey2D', 'CSI_InChI', 'CSI_name', 'CSI_smiles', 'CSI_xlogp', 'CSI_pubchemids', 'CSI_links', 'CSI_dbflags', 'CSI_ionMass', 'CSI_retentionTimeInSeconds', 'CSI_id']\n"
     ]
    }
   ],
   "source": [
    "show_metadata_tools(df,'CSI_') #GNPS_LIB_ GNPS_LIBA_, DEREP_, DEREP+_, CSI_"
   ]
  },
  {
   "cell_type": "markdown",
   "metadata": {},
   "source": [
    "## Select the columns and convert/consolidate"
   ]
  },
  {
   "cell_type": "markdown",
   "metadata": {},
   "source": [
    "### For GNPS library matches"
   ]
  },
  {
   "cell_type": "code",
   "execution_count": 5,
   "metadata": {},
   "outputs": [
    {
     "name": "stdout",
     "output_type": "stream",
     "text": [
      "Both SMILES and InChI were inputted\n",
      "Converting SMILES to mol object\n",
      "Succesfully converted to mol object: 2027\n",
      "Exception to the parsing: 0\n",
      "Not available: 35563\n",
      "Converting INCHI to mol object\n",
      "Succesfully converted to mol object: 2122\n",
      "Exception to the parsing: 0\n",
      "Not available: 35468\n",
      "Consolidating the lists\n",
      "Total mol object from the list 1 = 2026\n",
      "Mol object consolidated from list 2 = 125\n",
      "Consolidated structures = 2151\n",
      "Converting mol objects to SMILES iso\n",
      "Converting mol objects to SMILES\n",
      "Converting mol objects to InChI\n",
      "Converting mol objects to InChIKey\n",
      "End\n"
     ]
    }
   ],
   "source": [
    "consolidate_and_convert_structures(df,'GNPS_LIB_', smiles='GNPS_LIB_Smiles', \\\n",
    "                                   inchi='GNPS_LIB_INCHI')"
   ]
  },
  {
   "cell_type": "markdown",
   "metadata": {},
   "source": [
    "### For GNPS library match in analogue mode"
   ]
  },
  {
   "cell_type": "code",
   "execution_count": 6,
   "metadata": {},
   "outputs": [
    {
     "name": "stdout",
     "output_type": "stream",
     "text": [
      "Both SMILES and InChI were inputted\n",
      "Converting SMILES to mol object\n",
      "Succesfully converted to mol object: 7402\n",
      "Exception to the parsing: 0\n",
      "Not available: 30188\n",
      "Converting INCHI to mol object\n",
      "Succesfully converted to mol object: 7846\n",
      "Exception to the parsing: 0\n",
      "Not available: 29744\n",
      "Consolidating the lists\n",
      "Total mol object from the list 1 = 7401\n",
      "Mol object consolidated from list 2 = 558\n",
      "Consolidated structures = 7959\n",
      "Converting mol objects to SMILES iso\n",
      "Converting mol objects to SMILES\n",
      "Converting mol objects to InChI\n",
      "Converting mol objects to InChIKey\n",
      "End\n"
     ]
    }
   ],
   "source": [
    "consolidate_and_convert_structures(df,'GNPS_LIBA_', smiles='GNPS_LIBA_Smiles', \\\n",
    "                                   inchi='GNPS_LIBA_INCHI')"
   ]
  },
  {
   "cell_type": "markdown",
   "metadata": {},
   "source": [
    "### For DEREPLICATOR"
   ]
  },
  {
   "cell_type": "code",
   "execution_count": 7,
   "metadata": {},
   "outputs": [
    {
     "name": "stdout",
     "output_type": "stream",
     "text": [
      "Only SMILES were inputted\n",
      "Converting SMILES to mol object\n",
      "Succesfully converted to mol object: 113\n",
      "Exception to the parsing: 0\n",
      "Not available: 37477\n",
      "Converting mol objects to SMILES iso\n",
      "Converting mol objects to SMILES\n",
      "Converting mol objects to InChI\n",
      "Converting mol objects to InChIKey\n",
      "End\n"
     ]
    }
   ],
   "source": [
    "consolidate_and_convert_structures(df,'DEREP_', smiles='DEREP_SMILES')"
   ]
  },
  {
   "cell_type": "markdown",
   "metadata": {},
   "source": [
    "### For DEREPLICATOR+"
   ]
  },
  {
   "cell_type": "code",
   "execution_count": 8,
   "metadata": {},
   "outputs": [
    {
     "name": "stdout",
     "output_type": "stream",
     "text": [
      "Only SMILES were inputted\n",
      "Converting SMILES to mol object\n",
      "Succesfully converted to mol object: 1315\n",
      "Exception to the parsing: 0\n",
      "Not available: 36275\n",
      "Converting mol objects to SMILES iso\n",
      "Converting mol objects to SMILES\n",
      "Converting mol objects to InChI\n",
      "Converting mol objects to InChIKey\n",
      "End\n"
     ]
    }
   ],
   "source": [
    "consolidate_and_convert_structures(df,'DEREP+_', smiles='DEREP+_SMILES')"
   ]
  },
  {
   "cell_type": "markdown",
   "metadata": {},
   "source": [
    "### Export table"
   ]
  },
  {
   "cell_type": "code",
   "execution_count": 9,
   "metadata": {},
   "outputs": [],
   "source": [
    "df.to_csv(path[:-4]+'_consolidated.tsv', sep='\\t', index=True)"
   ]
  },
  {
   "cell_type": "code",
   "execution_count": 27,
   "metadata": {},
   "outputs": [],
   "source": [
    "#test = df[df.GNPS_LIB_Consol_SMILES.notnull()]"
   ]
  },
  {
   "cell_type": "code",
   "execution_count": null,
   "metadata": {},
   "outputs": [],
   "source": []
  }
 ],
 "metadata": {
  "kernelspec": {
   "display_name": "python2_rdkit",
   "language": "python",
   "name": "python2_rdkit"
  },
  "language_info": {
   "codemirror_mode": {
    "name": "ipython",
    "version": 2
   },
   "file_extension": ".py",
   "mimetype": "text/x-python",
   "name": "python",
   "nbconvert_exporter": "python",
   "pygments_lexer": "ipython2",
   "version": "2.7.3"
  }
 },
 "nbformat": 4,
 "nbformat_minor": 2
}
