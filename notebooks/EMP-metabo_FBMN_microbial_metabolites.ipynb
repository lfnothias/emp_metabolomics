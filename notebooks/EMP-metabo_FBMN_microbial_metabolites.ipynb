{
 "cells": [
  {
   "cell_type": "markdown",
   "metadata": {},
   "source": [
    "# EMP500 metabolomics - Establish putative microbial secondary metabolites - FBMN\n",
    "\n",
    "**Authors**: Louis Felix Nothias, Feb 2021\n",
    "\n",
    "**Objective**: \n",
    "- We match putative spectral annotation against NPAtlas and MIBIG and recover metadata (prefix `NPA_` and `MIBIG_` respectively)\n",
    "\n",
    "- We create new columns to indicate if an annotation is microbial (`is_microbial`). We differenciate the annotation level based on Metabolomics Standard Initiative standards. We also create new columns that store the identifiers from NPAtlas and MiBIG.\n",
    "\n",
    "    - Level 2: GNPS spectral library match in regular and analaogue mode, prefix: `GNPS_LIB` and `GNPS_LIBA`\n",
    "    - Level 3: DEREPLICATOR and DEREPLICATOR+, prefix:  `DEREP` and `DEREP+`\n",
    "    - Level 4: SIRIUS/CSI:FingerID, prefix `CSI_`\n",
    "\n",
    "\n",
    "- We propagate the microbial molecules using molecular network families (using `GNPS_componentindex`) and create a new column to indicate that these molecules are part of a putative microbial network, or the `GNPS_componentindex'\n"
   ]
  },
  {
   "cell_type": "code",
   "execution_count": 1,
   "metadata": {},
   "outputs": [],
   "source": [
    "import numpy as np\n",
    "import pandas as pd\n",
    "from rdkit import Chem"
   ]
  },
  {
   "cell_type": "code",
   "execution_count": 2,
   "metadata": {},
   "outputs": [],
   "source": [
    "feature_metadata_table = 'annotations_2_1/FBMN_metabo_feature_metadata_filtered_consolidated.tsv'\n",
    "features = pd.read_csv(feature_metadata_table,\n",
    "                       sep='\\t', low_memory=False)"
   ]
  },
  {
   "cell_type": "code",
   "execution_count": 3,
   "metadata": {},
   "outputs": [],
   "source": [
    "npatlas = pd.read_csv('microbial_metabolite_database/NPAtlas_download.tsv', sep='\\t')\n",
    "new_names = [(i,'NPA_'+i) for i in npatlas.iloc[:, 0:].columns.values]\n",
    "npatlas.rename(columns = dict(new_names), inplace=True)"
   ]
  },
  {
   "cell_type": "code",
   "execution_count": 4,
   "metadata": {},
   "outputs": [],
   "source": [
    "# This prints the metadata columns per annotations using the respective prefix.\n",
    "def show_metadata_tools(table, metadata_prefix):\n",
    "    metadata = []\n",
    "    for x in table.columns:\n",
    "        if x.startswith(metadata_prefix):\n",
    "            metadata.append(str(x))\n",
    "    print(metadata)"
   ]
  },
  {
   "cell_type": "markdown",
   "metadata": {},
   "source": [
    "### Generate the inchikey first block for all the annotation tools"
   ]
  },
  {
   "cell_type": "code",
   "execution_count": 5,
   "metadata": {},
   "outputs": [],
   "source": [
    "#Make a new column for inchikey without stereo\n",
    "def _prepare_inchikey(table, column):\n",
    "    table[column+str('_no_stereo')] = (table[column]\n",
    "                                .str.split('-').str[0])"
   ]
  },
  {
   "cell_type": "code",
   "execution_count": 6,
   "metadata": {},
   "outputs": [],
   "source": [
    "#Input columns for inchikey\n",
    "gnps_lib = 'GNPS_LIB_Consol_InChIKey'\n",
    "gnps_liba = 'GNPS_LIBA_Consol_InChIKey'\n",
    "derep = 'DEREP_Consol_InChIKey'\n",
    "derepplus = 'DEREP+_Consol_InChIKey'\n",
    "csi = 'CSI_InChIkey2D'"
   ]
  },
  {
   "cell_type": "code",
   "execution_count": 7,
   "metadata": {},
   "outputs": [],
   "source": [
    "#Apply to the tables\n",
    "\n",
    "    #NPAtlas\n",
    "_prepare_inchikey(npatlas, 'NPA_compound_inchikey')\n",
    "\n",
    "    #Feature annotation table\n",
    "_prepare_inchikey(features, gnps_lib)\n",
    "_prepare_inchikey(features, gnps_liba)\n",
    "_prepare_inchikey(features, derep)\n",
    "_prepare_inchikey(features, derepplus)\n",
    "_prepare_inchikey(features, csi)"
   ]
  },
  {
   "cell_type": "markdown",
   "metadata": {},
   "source": [
    "### Aggregate and match feature metadata with NPAtlas"
   ]
  },
  {
   "cell_type": "code",
   "execution_count": 8,
   "metadata": {},
   "outputs": [],
   "source": [
    "# Aggregate and merge. Beautiful piece by Wout Bittremieux\n",
    "def _aggregate_npatlas(table, npatlas, column, prefix):\n",
    "    npatlas2 = npatlas\n",
    "    npatlas2 = (npatlas2.groupby('NPA_compound_inchikey_no_stereo')\n",
    "               [['NPA_npaid', 'NPA_compound_id', 'NPA_compound_names', 'NPA_origin_type',\n",
    "                 'NPA_genus', 'NPA_origin_species', 'NPA_mibig_ids']]\n",
    "               .agg(lambda values: '|'.join([str(v) for v in values]))\n",
    "               .reset_index())\n",
    "    new_names = [(i,str(prefix)+i) for i in npatlas2.iloc[:, 0:].columns.values]\n",
    "    npatlas2.rename(columns = dict(new_names), inplace=True)\n",
    "    _aggregate_npatlas.merged = pd.merge(table, npatlas2, left_on=column+'_no_stereo', right_on=str(prefix)+'NPA_compound_inchikey_no_stereo', how ='left')"
   ]
  },
  {
   "cell_type": "code",
   "execution_count": 9,
   "metadata": {},
   "outputs": [],
   "source": [
    "# Apply to each annotation tool\n",
    "_aggregate_npatlas(features, npatlas, gnps_lib,'GNPS_LIB_')\n",
    "_aggregate_npatlas(_aggregate_npatlas.merged, npatlas, gnps_liba,'GNPS_LIBA_')\n",
    "_aggregate_npatlas(_aggregate_npatlas.merged, npatlas, derep,'DEREP_')\n",
    "_aggregate_npatlas(_aggregate_npatlas.merged, npatlas, derepplus,'DEREP+_')\n",
    "_aggregate_npatlas(_aggregate_npatlas.merged, npatlas, csi,'CSI_')"
   ]
  },
  {
   "cell_type": "markdown",
   "metadata": {},
   "source": [
    "## Aggregate and match with MIBIG"
   ]
  },
  {
   "cell_type": "code",
   "execution_count": 10,
   "metadata": {},
   "outputs": [],
   "source": [
    "mibig = pd.read_csv('microbial_metabolite_database/mibig.csv', sep=',')\n",
    "new_names = [(i,'MIBIG_'+i) for i in mibig.iloc[:, 0:].columns.values]\n",
    "mibig.rename(columns = dict(new_names), inplace=True)"
   ]
  },
  {
   "cell_type": "code",
   "execution_count": 11,
   "metadata": {},
   "outputs": [],
   "source": [
    "# Function to aggregate with MiBIG\n",
    "def _aggregate_mibig(table, mibig, column, prefix):\n",
    "    mibig2 = mibig\n",
    "    mibig2 = (mibig2.groupby('MIBIG_no_stereo_inchikey')\n",
    "               [['MIBIG_mibig_accession', 'MIBIG_organism_name','MIBIG_compound_name','MIBIG_ncbi_tax_id']]\n",
    "               .agg(lambda values: '|'.join([str(v) for v in values]))\n",
    "               .reset_index())\n",
    "    new_names = [(i,str(prefix)+i) for i in mibig2.iloc[:, 0:].columns.values]\n",
    "    mibig2.rename(columns = dict(new_names), inplace=True)\n",
    "    _aggregate_mibig.merged = pd.merge(table, mibig2, left_on=column+'_no_stereo', right_on=str(prefix)+'MIBIG_no_stereo_inchikey', how ='left')"
   ]
  },
  {
   "cell_type": "code",
   "execution_count": 12,
   "metadata": {},
   "outputs": [],
   "source": [
    "# Apply to each annotation tool\n",
    "_aggregate_mibig(_aggregate_npatlas.merged, mibig, gnps_lib,'GNPS_LIB_')\n",
    "_aggregate_mibig(_aggregate_mibig.merged, mibig, gnps_liba,'GNPS_LIBA_')\n",
    "_aggregate_mibig(_aggregate_mibig.merged, mibig, derep,'DEREP_')\n",
    "_aggregate_mibig(_aggregate_mibig.merged, mibig, derepplus,'DEREP+_')\n",
    "_aggregate_mibig(_aggregate_mibig.merged, mibig, csi,'CSI_')"
   ]
  },
  {
   "cell_type": "markdown",
   "metadata": {},
   "source": [
    "## We check at what MSI level the microbial annotation is"
   ]
  },
  {
   "cell_type": "code",
   "execution_count": 13,
   "metadata": {},
   "outputs": [],
   "source": [
    "table = _aggregate_mibig.merged"
   ]
  },
  {
   "cell_type": "code",
   "execution_count": 14,
   "metadata": {},
   "outputs": [],
   "source": [
    "level_2 = []\n",
    "level_3 = []\n",
    "level_4 = []\n",
    "level_2_3 = []\n",
    "level_2_3_4 = []\n",
    "\n",
    "# We are making columns to indicate if the compound is microbial and the annotation level of the tool\n",
    "for i, row in table.iterrows():\n",
    "    #level_2\n",
    "    if row['GNPS_LIB_NPA_compound_id'] is not np.nan:\n",
    "        level_2.append('YES')\n",
    "    elif row['GNPS_LIBA_NPA_compound_id'] is not np.nan:\n",
    "        level_2.append('YES')\n",
    "    elif row['GNPS_LIB_MIBIG_mibig_accession'] is not np.nan:\n",
    "        level_2.append('YES')\n",
    "    elif row['GNPS_LIBA_MIBIG_mibig_accession'] is not np.nan:\n",
    "        level_2.append('YES')\n",
    "    else:\n",
    "        level_2.append(np.nan)\n",
    "    \n",
    "    #level_3  \n",
    "    if row['DEREP_NPA_compound_id'] is not np.nan:\n",
    "        level_3.append('YES')\n",
    "    elif row['DEREP+_NPA_compound_id'] is not np.nan:\n",
    "        level_3.append('YES')\n",
    "    elif row['DEREP_MIBIG_mibig_accession'] is not np.nan:\n",
    "        level_3.append('YES')\n",
    "    elif row['DEREP+_MIBIG_mibig_accession'] is not np.nan:\n",
    "        level_3.append('YES')\n",
    "    else:\n",
    "        level_3.append(np.nan)\n",
    "        \n",
    "    #level_4     \n",
    "    if row['CSI_NPA_compound_id'] is not np.nan:\n",
    "        level_4.append('YES')\n",
    "    elif row['CSI_MIBIG_mibig_accession'] is not np.nan:\n",
    "        level_4.append('YES')\n",
    "    else:\n",
    "        level_4.append(np.nan)\n",
    "        \n",
    "    #level_2_3\n",
    "    if row['GNPS_LIB_NPA_compound_id'] is not np.nan:\n",
    "        level_2_3.append('YES')\n",
    "    elif row['GNPS_LIBA_NPA_compound_id'] is not np.nan:\n",
    "        level_2_3.append('YES')\n",
    "    elif row['DEREP_NPA_compound_id'] is not np.nan:\n",
    "        level_2_3.append('YES')\n",
    "    elif row['DEREP+_NPA_compound_id'] is not np.nan:\n",
    "        level_2_3.append('YES')\n",
    "    elif row['GNPS_LIB_MIBIG_mibig_accession'] is not np.nan:\n",
    "        level_2_3.append('YES')\n",
    "    elif row['GNPS_LIBA_MIBIG_mibig_accession'] is not np.nan:\n",
    "        level_2_3.append('YES')\n",
    "    elif row['DEREP_MIBIG_mibig_accession'] is not np.nan:\n",
    "        level_2_3.append('YES')\n",
    "    elif row['DEREP+_MIBIG_mibig_accession'] is not np.nan:\n",
    "        level_2_3.append('YES')\n",
    "    else:\n",
    "        level_2_3.append(np.nan)\n",
    "    \n",
    "    #level_2_3_4\n",
    "    if row['GNPS_LIB_NPA_compound_id'] is not np.nan:\n",
    "        level_2_3_4.append('YES')\n",
    "    elif row['GNPS_LIBA_NPA_compound_id'] is not np.nan:\n",
    "        level_2_3_4.append('YES')\n",
    "    elif row['DEREP_NPA_compound_id'] is not np.nan:\n",
    "        level_2_3_4.append('YES')\n",
    "    elif row['DEREP+_NPA_compound_id'] is not np.nan:\n",
    "        level_2_3_4.append('YES')\n",
    "    elif row['CSI_NPA_compound_id'] is not np.nan:\n",
    "        level_2_3_4.append('YES')\n",
    "    elif row['GNPS_LIB_MIBIG_mibig_accession'] is not np.nan:\n",
    "        level_2_3_4.append('YES')\n",
    "    elif row['GNPS_LIBA_MIBIG_mibig_accession'] is not np.nan:\n",
    "        level_2_3_4.append('YES')\n",
    "    elif row['DEREP_MIBIG_mibig_accession'] is not np.nan:\n",
    "        level_2_3_4.append('YES')\n",
    "    elif row['DEREP+_MIBIG_mibig_accession'] is not np.nan:\n",
    "        level_2_3_4.append('YES')\n",
    "    elif row['CSI_MIBIG_mibig_accession'] is not np.nan:\n",
    "        level_2_3_4.append('YES')\n",
    "    else:\n",
    "        level_2_3_4.append(np.nan)\n",
    "        \n",
    "table['is_microbial_level_2'] = level_2\n",
    "table['is_microbial_level_3'] = level_3\n",
    "table['is_microbial_level_4'] = level_4\n",
    "table['is_microbial_level_2_3'] = level_2_3\n",
    "table['is_microbial_level_2_3_4'] = level_2_3_4"
   ]
  },
  {
   "cell_type": "code",
   "execution_count": 15,
   "metadata": {},
   "outputs": [
    {
     "name": "stdout",
     "output_type": "stream",
     "text": [
      "level_2 = 869\n",
      "level_3 = 1286\n",
      "level_4 = 1604\n",
      "level_2_3 = 2116\n",
      "level_2_3_4 = 3546\n"
     ]
    }
   ],
   "source": [
    "print('level_2 = '+ str(table[(table['is_microbial_level_2'] == 'YES')].shape[0]))\n",
    "print('level_3 = '+ str(table[(table['is_microbial_level_3'] == 'YES')].shape[0]))\n",
    "print('level_4 = '+ str(table[(table['is_microbial_level_4'] == 'YES')].shape[0]))\n",
    "print('level_2_3 = '+ str(table[(table['is_microbial_level_2_3'] == 'YES')].shape[0]))\n",
    "print('level_2_3_4 = '+ str(table[(table['is_microbial_level_2_3_4'] == 'YES')].shape[0]))"
   ]
  },
  {
   "cell_type": "markdown",
   "metadata": {},
   "source": [
    "### For microbial annotation, we make a column that store information about annotation and accession number\n"
   ]
  },
  {
   "cell_type": "code",
   "execution_count": 16,
   "metadata": {},
   "outputs": [],
   "source": [
    "element_list = []\n",
    "id_list = []\n",
    "\n",
    "for i, row in table.iterrows():\n",
    "    element = []\n",
    "    identifier = []\n",
    "    \n",
    "    #Initiating \n",
    "    if row['GNPS_LIB_NPA_npaid'] is not np.nan:\n",
    "        element = 'GNPS_LIB_NPA|'\n",
    "        identifier = row['GNPS_LIB_NPA_npaid']+str('|')\n",
    "    else:\n",
    "        element = ''\n",
    "        identifier = ''\n",
    "    \n",
    "    #NPAtlas\n",
    "    if row['GNPS_LIBA_NPA_npaid'] is not np.nan:\n",
    "        element += 'GNPS_LIBA_NPA|'\n",
    "        identifier += row['GNPS_LIBA_NPA_npaid']+str('|')\n",
    "    if row['DEREP_NPA_npaid'] is not np.nan:\n",
    "        element += 'DEREP_NPA|'\n",
    "        identifier += row['DEREP_NPA_npaid']+str('|')\n",
    "    if row['DEREP+_NPA_npaid'] is not np.nan:\n",
    "        element += 'DEREP+_NPA|'\n",
    "        identifier += row['DEREP+_NPA_npaid']+str('|')\n",
    "    if row['CSI_NPA_npaid'] is not np.nan:\n",
    "        element += 'CSI_NPA|'\n",
    "        identifier += row['CSI_NPA_npaid']+str('|')\n",
    "    \n",
    "    #MIBIG\n",
    "    if row['GNPS_LIB_MIBIG_mibig_accession'] is not np.nan:\n",
    "        element += 'GNPS_LIB_MIBIG|'\n",
    "        identifier += row['GNPS_LIB_MIBIG_mibig_accession']+str('|')\n",
    "    if row['GNPS_LIBA_MIBIG_mibig_accession'] is not np.nan:\n",
    "        element += 'GNPS_LIBA_MIBIG|'\n",
    "        identifier += row['GNPS_LIBA_MIBIG_mibig_accession']+str('|')\n",
    "    if row['DEREP_MIBIG_mibig_accession'] is not np.nan:\n",
    "        element += 'DEREP_MIBIG|'\n",
    "        identifier += row['DEREP_MIBIG_mibig_accession']+str('|')\n",
    "    if row['DEREP+_MIBIG_mibig_accession'] is not np.nan:\n",
    "        element += 'DEREP+_MIBIG|'\n",
    "        identifier += row['DEREP+_MIBIG_mibig_accession']+str('|')\n",
    "    if row['CSI_MIBIG_mibig_accession'] is not np.nan:\n",
    "        element += 'CSI_MIBIG|'\n",
    "        identifier += row['CSI_MIBIG_mibig_accession']+str('|')\n",
    "    \n",
    "    element_list.append(element)\n",
    "    id_list.append(identifier)\n",
    "    \n",
    "table['is_microbial_tool'] = element_list \n",
    "table['is_microbial_tool_id'] = id_list"
   ]
  },
  {
   "cell_type": "markdown",
   "metadata": {},
   "source": [
    "### We are propagating microbial annotations using molecular networking"
   ]
  },
  {
   "cell_type": "code",
   "execution_count": 17,
   "metadata": {},
   "outputs": [],
   "source": [
    "# We are propagating microbial annotation\n",
    "def _propagate_microbial_annotation(table,column):\n",
    "\n",
    "    propagate_list = []\n",
    "    propagate_column = []\n",
    "    propagate_componentid = []\n",
    "\n",
    "    for i, row in table.iterrows():\n",
    "        if row[column] is not np.nan:\n",
    "            if row['GNPS_componentindex'] is not -1:\n",
    "                propagate_list.append(row['GNPS_componentindex'])\n",
    "\n",
    "    for i, row in table.iterrows():\n",
    "        if row['GNPS_componentindex'] in propagate_list:\n",
    "            propagate_column.append('YES')\n",
    "            propagate_componentid.append(row['GNPS_componentindex'])\n",
    "        else:\n",
    "            propagate_column.append(np.nan)\n",
    "            propagate_componentid.append(np.nan)\n",
    "            \n",
    "    table[column+'_network'] = propagate_column\n",
    "    table[column+'_networkid'] = propagate_componentid"
   ]
  },
  {
   "cell_type": "code",
   "execution_count": 18,
   "metadata": {},
   "outputs": [],
   "source": [
    "# We propagate for each annotation level\n",
    "_propagate_microbial_annotation(table,'is_microbial_level_2')\n",
    "_propagate_microbial_annotation(table,'is_microbial_level_3')\n",
    "_propagate_microbial_annotation(table,'is_microbial_level_4')\n",
    "_propagate_microbial_annotation(table,'is_microbial_level_2_3')\n",
    "_propagate_microbial_annotation(table,'is_microbial_level_2_3_4')"
   ]
  },
  {
   "cell_type": "code",
   "execution_count": 19,
   "metadata": {},
   "outputs": [
    {
     "name": "stdout",
     "output_type": "stream",
     "text": [
      "level_2_network = 2784\n",
      "level_3_network = 4410\n",
      "level_4_network = 7245\n",
      "level_2_3_network = 6588\n",
      "level_2_3_4_network = 10771\n"
     ]
    }
   ],
   "source": [
    "print('level_2_network = '+ str(table[(table['is_microbial_level_2_network'] == 'YES')].shape[0]))\n",
    "print('level_3_network = '+ str(table[(table['is_microbial_level_3_network'] == 'YES')].shape[0]))\n",
    "print('level_4_network = '+ str(table[(table['is_microbial_level_4_network'] == 'YES')].shape[0]))\n",
    "print('level_2_3_network = '+ str(table[(table['is_microbial_level_2_3_network'] == 'YES')].shape[0]))\n",
    "print('level_2_3_4_network = '+ str(table[(table['is_microbial_level_2_3_4_network'] == 'YES')].shape[0]))"
   ]
  },
  {
   "cell_type": "markdown",
   "metadata": {},
   "source": [
    "### We write out the generated table"
   ]
  },
  {
   "cell_type": "code",
   "execution_count": 20,
   "metadata": {},
   "outputs": [],
   "source": [
    "table_out = table.drop('Unnamed: 0', axis=1)\n",
    "table_out.to_csv(feature_metadata_table[:-4]+'_is_microbial.tsv', sep='\\t', index=False)"
   ]
  }
 ],
 "metadata": {
  "kernelspec": {
   "display_name": "Python [conda env:python2_rdkit]",
   "language": "python",
   "name": "conda-env-python2_rdkit-py"
  },
  "language_info": {
   "codemirror_mode": {
    "name": "ipython",
    "version": 2
   },
   "file_extension": ".py",
   "mimetype": "text/x-python",
   "name": "python",
   "nbconvert_exporter": "python",
   "pygments_lexer": "ipython2",
   "version": "2.7.3"
  }
 },
 "nbformat": 4,
 "nbformat_minor": 4
}
