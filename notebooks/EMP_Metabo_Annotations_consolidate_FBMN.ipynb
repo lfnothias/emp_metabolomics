{
 "cells": [
  {
   "cell_type": "markdown",
   "metadata": {},
   "source": [
    "# EMP Metabolomics - Convert/consolidate structure annotations FBMN\n",
    "\n"
   ]
  },
  {
   "cell_type": "code",
   "execution_count": 1,
   "metadata": {},
   "outputs": [],
   "source": [
    "from convert_structures import *"
   ]
  },
  {
   "cell_type": "markdown",
   "metadata": {},
   "source": [
    "## Load GNPS FBMN annotations"
   ]
  },
  {
   "cell_type": "code",
   "execution_count": 2,
   "metadata": {},
   "outputs": [],
   "source": [
    "path = \"annotations_2_1/FBMN_metabo_feature_metadata_filtered.tsv\""
   ]
  },
  {
   "cell_type": "code",
   "execution_count": 3,
   "metadata": {},
   "outputs": [
    {
     "data": {
      "text/html": [
       "<div>\n",
       "<style scoped>\n",
       "    .dataframe tbody tr th:only-of-type {\n",
       "        vertical-align: middle;\n",
       "    }\n",
       "\n",
       "    .dataframe tbody tr th {\n",
       "        vertical-align: top;\n",
       "    }\n",
       "\n",
       "    .dataframe thead th {\n",
       "        text-align: right;\n",
       "    }\n",
       "</style>\n",
       "<table border=\"1\" class=\"dataframe\">\n",
       "  <thead>\n",
       "    <tr style=\"text-align: right;\">\n",
       "      <th></th>\n",
       "      <th>#featureID</th>\n",
       "      <th>GNPS_Annotated Adduct Features ID</th>\n",
       "      <th>GNPS_Best Ion</th>\n",
       "      <th>GNPS_Correlated Features Group ID</th>\n",
       "      <th>GNPS_G1</th>\n",
       "      <th>GNPS_G2</th>\n",
       "      <th>GNPS_G3</th>\n",
       "      <th>GNPS_G4</th>\n",
       "      <th>GNPS_G5</th>\n",
       "      <th>GNPS_G6</th>\n",
       "      <th>...</th>\n",
       "      <th>CSI_id</th>\n",
       "      <th>CAN_name</th>\n",
       "      <th>CAN_molecularFormula</th>\n",
       "      <th>CAN_adduct</th>\n",
       "      <th>CAN_most specific class</th>\n",
       "      <th>CAN_level 5</th>\n",
       "      <th>CAN_subclass</th>\n",
       "      <th>CAN_class</th>\n",
       "      <th>CAN_superclass</th>\n",
       "      <th>CAN_all classifications</th>\n",
       "    </tr>\n",
       "  </thead>\n",
       "  <tbody>\n",
       "    <tr>\n",
       "      <th>0</th>\n",
       "      <td>48</td>\n",
       "      <td></td>\n",
       "      <td></td>\n",
       "      <td></td>\n",
       "      <td>0.0</td>\n",
       "      <td>0.0</td>\n",
       "      <td>0.0</td>\n",
       "      <td>0.0</td>\n",
       "      <td>0.0</td>\n",
       "      <td>0.0</td>\n",
       "      <td>...</td>\n",
       "      <td>51332_1907_EMPv2_SIRIUS_48</td>\n",
       "      <td>51332_1907_EMPv2_SIRIUS_48</td>\n",
       "      <td>C15H26O3</td>\n",
       "      <td>[M - H4O2 + H]+</td>\n",
       "      <td>Sesquiterpenoids</td>\n",
       "      <td>NaN</td>\n",
       "      <td>Sesquiterpenoids</td>\n",
       "      <td>Prenol lipids</td>\n",
       "      <td>Lipids and lipid-like molecules</td>\n",
       "      <td>Organic compounds; Alcohols and polyols; Preno...</td>\n",
       "    </tr>\n",
       "    <tr>\n",
       "      <th>1</th>\n",
       "      <td>66</td>\n",
       "      <td></td>\n",
       "      <td></td>\n",
       "      <td></td>\n",
       "      <td>0.0</td>\n",
       "      <td>0.0</td>\n",
       "      <td>0.0</td>\n",
       "      <td>0.0</td>\n",
       "      <td>0.0</td>\n",
       "      <td>0.0</td>\n",
       "      <td>...</td>\n",
       "      <td>13928_1907_EMPv2_SIRIUS_66</td>\n",
       "      <td>13928_1907_EMPv2_SIRIUS_66</td>\n",
       "      <td>C15H26O3</td>\n",
       "      <td>[M - H4O2 + H]+</td>\n",
       "      <td>Prenol lipids</td>\n",
       "      <td>NaN</td>\n",
       "      <td>NaN</td>\n",
       "      <td>Prenol lipids</td>\n",
       "      <td>Lipids and lipid-like molecules</td>\n",
       "      <td>Organic compounds; Alcohols and polyols; Preno...</td>\n",
       "    </tr>\n",
       "  </tbody>\n",
       "</table>\n",
       "<p>2 rows × 171 columns</p>\n",
       "</div>"
      ],
      "text/plain": [
       "   #featureID GNPS_Annotated Adduct Features ID GNPS_Best Ion  \\\n",
       "0          48                                                   \n",
       "1          66                                                   \n",
       "\n",
       "  GNPS_Correlated Features Group ID  GNPS_G1  GNPS_G2  GNPS_G3  GNPS_G4  \\\n",
       "0                                        0.0      0.0      0.0      0.0   \n",
       "1                                        0.0      0.0      0.0      0.0   \n",
       "\n",
       "   GNPS_G5  GNPS_G6                        ...                          \\\n",
       "0      0.0      0.0                        ...                           \n",
       "1      0.0      0.0                        ...                           \n",
       "\n",
       "                       CSI_id                    CAN_name  \\\n",
       "0  51332_1907_EMPv2_SIRIUS_48  51332_1907_EMPv2_SIRIUS_48   \n",
       "1  13928_1907_EMPv2_SIRIUS_66  13928_1907_EMPv2_SIRIUS_66   \n",
       "\n",
       "  CAN_molecularFormula       CAN_adduct  CAN_most specific class CAN_level 5  \\\n",
       "0             C15H26O3  [M - H4O2 + H]+         Sesquiterpenoids         NaN   \n",
       "1             C15H26O3  [M - H4O2 + H]+            Prenol lipids         NaN   \n",
       "\n",
       "       CAN_subclass      CAN_class                   CAN_superclass  \\\n",
       "0  Sesquiterpenoids  Prenol lipids  Lipids and lipid-like molecules   \n",
       "1               NaN  Prenol lipids  Lipids and lipid-like molecules   \n",
       "\n",
       "                             CAN_all classifications  \n",
       "0  Organic compounds; Alcohols and polyols; Preno...  \n",
       "1  Organic compounds; Alcohols and polyols; Preno...  \n",
       "\n",
       "[2 rows x 171 columns]"
      ]
     },
     "execution_count": 3,
     "metadata": {},
     "output_type": "execute_result"
    }
   ],
   "source": [
    "# Spectral-DB file from FBMN, possibly compatible with V2\n",
    "df = pd.read_csv(path, sep='\\t', header=0,low_memory=False)\n",
    "df.head(2)"
   ]
  },
  {
   "cell_type": "markdown",
   "metadata": {},
   "source": [
    "## Inspect the metadata"
   ]
  },
  {
   "cell_type": "code",
   "execution_count": 4,
   "metadata": {},
   "outputs": [
    {
     "name": "stdout",
     "output_type": "stream",
     "text": [
      "['GNPS_LIBA_SpectrumID', 'GNPS_LIBA_Compound_Name', 'GNPS_LIBA_Ion_Source', 'GNPS_LIBA_Instrument', 'GNPS_LIBA_Compound_Source', 'GNPS_LIBA_PI', 'GNPS_LIBA_Data_Collector', 'GNPS_LIBA_Adduct', 'GNPS_LIBA_Precursor_MZ', 'GNPS_LIBA_ExactMass', 'GNPS_LIBA_Charge', 'GNPS_LIBA_CAS_Number', 'GNPS_LIBA_Pubmed_ID', 'GNPS_LIBA_Smiles', 'GNPS_LIBA_INCHI', 'GNPS_LIBA_INCHI_AUX', 'GNPS_LIBA_Library_Class', 'GNPS_LIBA_IonMode', 'GNPS_LIBA_UpdateWorkflowName', 'GNPS_LIBA_LibraryQualityString', 'GNPS_LIBA_SpectrumFile', 'GNPS_LIBA_LibraryName', 'GNPS_LIBA_MQScore', 'GNPS_LIBA_Organism', 'GNPS_LIBA_TIC_Query', 'GNPS_LIBA_RT_Query', 'GNPS_LIBA_MZErrorPPM', 'GNPS_LIBA_SharedPeaks', 'GNPS_LIBA_MassDiff', 'GNPS_LIBA_LibMZ', 'GNPS_LIBA_SpecMZ', 'GNPS_LIBA_SpecCharge', 'GNPS_LIBA_FileScanUniqueID', 'GNPS_LIBA_NumberHits', 'GNPS_LIBA_tags', 'GNPS_LIBA_MoleculeExplorerDatasets', 'GNPS_LIBA_MoleculeExplorerFiles', 'GNPS_LIBA_InChIKey', 'GNPS_LIBA_InChIKey-Planar', 'GNPS_LIBA_superclass', 'GNPS_LIBA_class', 'GNPS_LIBA_subclass', 'GNPS_LIBA_npclassifier_superclass', 'GNPS_LIBA_npclassifier_class', 'GNPS_LIBA_npclassifier_pathway']\n"
     ]
    }
   ],
   "source": [
    "show_metadata_tools(df,'GNPS_LIBA_') #GNPS_LIB_ GNPS_LIBA, DEREP_, DEREP+_, CSI_"
   ]
  },
  {
   "cell_type": "markdown",
   "metadata": {},
   "source": [
    "## Select the columns and convert/consolidate"
   ]
  },
  {
   "cell_type": "markdown",
   "metadata": {},
   "source": [
    "### For GNPS library matches"
   ]
  },
  {
   "cell_type": "code",
   "execution_count": 5,
   "metadata": {},
   "outputs": [
    {
     "name": "stdout",
     "output_type": "stream",
     "text": [
      "Both SMILES and InChI were inputted\n",
      "Converting SMILES to mol object\n",
      "Succesfully converted to mol object: 5038\n",
      "Exception to the parsing: 0\n",
      "Not available: 47458\n",
      "Converting INCHI to mol object\n",
      "Succesfully converted to mol object: 5186\n",
      "Exception to the parsing: 0\n",
      "Not available: 47310\n",
      "Consolidating the lists\n",
      "Total mol object from the list 1 = 5037\n",
      "Mol object consolidated from list 2 = 197\n",
      "Consolidated structures = 5234\n",
      "Converting mol objects to SMILES iso\n",
      "Converting mol objects to SMILES\n",
      "Converting mol objects to InChI\n",
      "Converting mol objects to InChIKey\n",
      "End\n"
     ]
    }
   ],
   "source": [
    "consolidate_and_convert_structures(df,'GNPS_LIB_', smiles='GNPS_LIB_Smiles', \\\n",
    "                                   inchi='GNPS_LIB_INCHI')"
   ]
  },
  {
   "cell_type": "markdown",
   "metadata": {},
   "source": [
    "### For GNPS library match in analogue mode"
   ]
  },
  {
   "cell_type": "code",
   "execution_count": 6,
   "metadata": {},
   "outputs": [
    {
     "name": "stdout",
     "output_type": "stream",
     "text": [
      "Both SMILES and InChI were inputted\n",
      "Converting SMILES to mol object\n",
      "Succesfully converted to mol object: 12466\n",
      "Exception to the parsing: 0\n",
      "Not available: 40030\n",
      "Converting INCHI to mol object\n",
      "Succesfully converted to mol object: 13149\n",
      "Exception to the parsing: 0\n",
      "Not available: 39347\n",
      "Consolidating the lists\n",
      "Total mol object from the list 1 = 12464\n",
      "Mol object consolidated from list 2 = 825\n",
      "Consolidated structures = 13289\n",
      "Converting mol objects to SMILES iso\n",
      "Converting mol objects to SMILES\n",
      "Converting mol objects to InChI\n",
      "Converting mol objects to InChIKey\n",
      "End\n"
     ]
    }
   ],
   "source": [
    "consolidate_and_convert_structures(df,'GNPS_LIBA_', smiles='GNPS_LIBA_Smiles', \\\n",
    "                                   inchi='GNPS_LIBA_INCHI')"
   ]
  },
  {
   "cell_type": "markdown",
   "metadata": {},
   "source": [
    "### For DEREPLICATOR"
   ]
  },
  {
   "cell_type": "code",
   "execution_count": 7,
   "metadata": {},
   "outputs": [
    {
     "name": "stdout",
     "output_type": "stream",
     "text": [
      "Only SMILES were inputted\n",
      "Converting SMILES to mol object\n",
      "Succesfully converted to mol object: 341\n",
      "Exception to the parsing: 0\n",
      "Not available: 52155\n",
      "Converting mol objects to SMILES iso\n",
      "Converting mol objects to SMILES\n",
      "Converting mol objects to InChI\n",
      "Converting mol objects to InChIKey\n",
      "End\n"
     ]
    }
   ],
   "source": [
    "consolidate_and_convert_structures(df,'DEREP_', smiles='DEREP_SMILES')"
   ]
  },
  {
   "cell_type": "markdown",
   "metadata": {},
   "source": [
    "### For DEREPLICATOR+"
   ]
  },
  {
   "cell_type": "code",
   "execution_count": 8,
   "metadata": {},
   "outputs": [
    {
     "name": "stdout",
     "output_type": "stream",
     "text": [
      "Only SMILES were inputted\n",
      "Converting SMILES to mol object\n",
      "Succesfully converted to mol object: 10127\n",
      "Exception to the parsing: 0\n",
      "Not available: 42369\n",
      "Converting mol objects to SMILES iso\n",
      "Converting mol objects to SMILES\n",
      "Converting mol objects to InChI\n",
      "Converting mol objects to InChIKey\n",
      "End\n"
     ]
    }
   ],
   "source": [
    "consolidate_and_convert_structures(df,'DEREP+_', smiles='DEREP+_SMILES')"
   ]
  },
  {
   "cell_type": "markdown",
   "metadata": {},
   "source": [
    "### Export table"
   ]
  },
  {
   "cell_type": "code",
   "execution_count": 9,
   "metadata": {},
   "outputs": [],
   "source": [
    "df.to_csv(path[:-4]+'_consolidated.tsv', sep='\\t', index=True)"
   ]
  },
  {
   "cell_type": "code",
   "execution_count": null,
   "metadata": {},
   "outputs": [],
   "source": []
  }
 ],
 "metadata": {
  "kernelspec": {
   "display_name": "python2_rdkit",
   "language": "python",
   "name": "python2_rdkit"
  },
  "language_info": {
   "codemirror_mode": {
    "name": "ipython",
    "version": 2
   },
   "file_extension": ".py",
   "mimetype": "text/x-python",
   "name": "python",
   "nbconvert_exporter": "python",
   "pygments_lexer": "ipython2",
   "version": "2.7.3"
  }
 },
 "nbformat": 4,
 "nbformat_minor": 2
}
